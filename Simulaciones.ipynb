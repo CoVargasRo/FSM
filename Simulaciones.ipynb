{
 "cells": [
  {
   "cell_type": "code",
   "execution_count": null,
   "metadata": {},
   "outputs": [],
   "source": [
    "import numpy as np \n",
    "from AdapFSM import *"
   ]
  },
  {
   "cell_type": "code",
   "execution_count": null,
   "metadata": {},
   "outputs": [],
   "source": [
    "## Samplea 100 estimaciones para un estado random de dimension d en todos los ensambles ( solo )\n",
    "\n",
    "def SamplerAnalitico(dim , samplesize=100, estimationsize= 10, shots_1=2/4):\n",
    "    #fidelidades\n",
    "    Fids1_n5 = np.zeros([samplesize,estimationsize]) \n",
    "    Fids2_n5 = np.zeros([samplesize,estimationsize])\n",
    "\n",
    "    for i in range(samplesize): #elige 100 estados random de dimensión d\n",
    "        state = RandomState(dim)\n",
    "        for j in range(estimationsize): #para cada estado realiza 10 estimaciones\n",
    "            Fids1_n5[i,j] , Fids2_n5[i,j] = TomoAnaliticaMLE( state, 10**5 , shots_1 , 1-shots_1 ) #fidelidades estimación 1 y 2 para cada estimación j del estado i\n",
    "\n",
    "    #fidelidades\n",
    "    Fids1_n55 = np.zeros([samplesize,estimationsize]) \n",
    "    Fids2_n55 = np.zeros([samplesize,estimationsize])\n",
    "\n",
    "    for i in range(samplesize): #elige 100 estados random de dimensión d\n",
    "        state = RandomState(dim)\n",
    "        for j in range(estimationsize): #para cada estado realiza 10 estimaciones\n",
    "            Fids1_n55[i,j] , Fids2_n55[i,j] = TomoAnaliticaMLE(state, 10**5.5 , shots_1,1-shots_1) #fidelidades estimación 1 y 2 para cada estimación j del estado i\n",
    "\n",
    "    #fidelidades\n",
    "    Fids1_n6 = np.zeros([samplesize,estimationsize]) \n",
    "    Fids2_n6 = np.zeros([samplesize,estimationsize])\n",
    "\n",
    "    for i in range(samplesize): #elige 100 estados random de dimensión d\n",
    "        state = RandomState(dim)\n",
    "        for j in range(estimationsize): #para cada estado realiza 10 estimaciones\n",
    "            Fids1_n6[i,j] , Fids2_n6[i,j] = TomoAnaliticaMLE(state, 10**6 , shots_1,1-shots_1) #fidelidades estimación 1 y 2 para cada estimación j del estado i\n",
    "\n",
    "    #fidelidades\n",
    "    Fids1_n65 = np.zeros([samplesize,estimationsize]) \n",
    "    Fids2_n65 = np.zeros([samplesize,estimationsize])\n",
    "\n",
    "    for i in range(samplesize): #elige 100 estados random de dimensión d\n",
    "        state = RandomState(dim)\n",
    "        for j in range(estimationsize): #para cada estado realiza 10 estimaciones\n",
    "            Fids1_n65[i,j] , Fids2_n65[i,j] = TomoAnaliticaMLE(state, 10**6.5 , shots_1,1-shots_1) #fidelidades estimación 1 y 2 para cada estimación j del estado i\n",
    "\n",
    "    #fidelidades\n",
    "    Fids1_n7 = np.zeros([samplesize,estimationsize]) \n",
    "    Fids2_n7 = np.zeros([samplesize,estimationsize])\n",
    "\n",
    "    for i in range(samplesize): #elige 100 estados random de dimensión d\n",
    "        state = RandomState(dim)\n",
    "        for j in range(estimationsize): #para cada estado realiza 10 estimaciones\n",
    "            Fids1_n7[i,j] , Fids2_n7[i,j] = TomoAnaliticaMLE(state, 10**7 , shots_1,1-shots_1) #fidelidades estimación 1 y 2 para cada estimación j del estado i\n",
    "                  \n",
    "    return Fids1_n5, Fids2_n5, Fids1_n55, Fids2_n55, Fids1_n6, Fids2_n6, Fids1_n65, Fids2_n65, Fids1_n7, Fids2_n7"
   ]
  },
  {
   "cell_type": "markdown",
   "metadata": {},
   "source": [
    "### a) Simulaciones de estimacion usando el metodo por dimension y ensamble"
   ]
  },
  {
   "cell_type": "code",
   "execution_count": 9,
   "metadata": {},
   "outputs": [],
   "source": [
    "ensambles = 10**np.array([5,5.5,6,6.5,7]) \n",
    "dims = 2**np.array([2,3,4,5,6])"
   ]
  },
  {
   "cell_type": "code",
   "execution_count": null,
   "metadata": {},
   "outputs": [],
   "source": [
    "#variables\n",
    "\n",
    "dim = 2**2\n",
    "\n",
    "Fids_1n5 , Fids_2n5 , Fids_1n55 , Fids_2n55, Fids_1n6 , Fids_2n6, Fids_1n65 , Fids_2n65, Fids_1n7 , Fids_2n7 = SamplerAnalitico( dim )\n",
    "\n",
    "#guardar datos, columnas corresponden a distintas dimensiones, filas son estados distintos\n",
    "np.savetxt('Sim2_4/dim=4,ens=10^5,fids_1.txt', Fids_1n5 )\n",
    "np.savetxt('Sim2_4/dim=4,ens=10^5,fids_2.txt', Fids_2n5 )\n",
    "np.savetxt('Sim2_4/dim=4,ens=10^55,fids_1.txt', Fids_1n55 )\n",
    "np.savetxt('Sim2_4/dim=4,ens=10^55,fids_2.txt', Fids_2n55 )\n",
    "np.savetxt('Sim2_4/dim=4,ens=10^6,fids_1.txt', Fids_1n6 )\n",
    "np.savetxt('Sim2_4/dim=4,ens=10^6,fids_2.txt', Fids_2n6 )\n",
    "np.savetxt('Sim2_4/dim=4,ens=10^65,fids_1.txt', Fids_1n65 )\n",
    "np.savetxt('Sim2_4/dim=4,ens=10^65,fids_2.txt', Fids_2n65 )\n",
    "np.savetxt('Sim2_4/dim=4,ens=10^7,fids_1.txt', Fids_1n7 )\n",
    "np.savetxt('Sim2_4/dim=4,ens=10^7,fids_2.txt', Fids_2n7 )"
   ]
  },
  {
   "cell_type": "code",
   "execution_count": null,
   "metadata": {},
   "outputs": [],
   "source": [
    "#variables\n",
    "\n",
    "dim = 2**3\n",
    "\n",
    "Fids_1n5 , Fids_2n5 , Fids_1n55 , Fids_2n55, Fids_1n6 , Fids_2n6, Fids_1n65 , Fids_2n65, Fids_1n7 , Fids_2n7 = SamplerAnalitico( dim )\n",
    "\n",
    "#guardar datos, columnas corresponden a distintas dimensiones, filas son estados distintos\n",
    "np.savetxt('Sim2_4/dim=8,ens=10^5,fids_2.txt', Fids_2n5 )\n",
    "np.savetxt('Sim2_4/dim=8,ens=10^55,fids_1.txt', Fids_1n55 )\n",
    "np.savetxt('Sim2_4/dim=8,ens=10^5,fids_1.txt', Fids_1n5 )\n",
    "np.savetxt('Sim2_4/dim=8,ens=10^55,fids_2.txt', Fids_2n55 )\n",
    "np.savetxt('Sim2_4/dim=8,ens=10^6,fids_1.txt', Fids_1n6 )\n",
    "np.savetxt('Sim2_4/dim=8,ens=10^6,fids_2.txt', Fids_2n6 )\n",
    "np.savetxt('Sim2_4/dim=8,ens=10^65,fids_1.txt', Fids_1n65 )\n",
    "np.savetxt('Sim2_4/dim=8,ens=10^65,fids_2.txt', Fids_2n65 )\n",
    "np.savetxt('Sim2_4/dim=8,ens=10^7,fids_1.txt', Fids_1n7 )\n",
    "np.savetxt('Sim2_4/dim=8,ens=10^7,fids_2.txt', Fids_2n7 )"
   ]
  },
  {
   "cell_type": "code",
   "execution_count": null,
   "metadata": {},
   "outputs": [],
   "source": [
    "#variables\n",
    "\n",
    "dim = 2**4\n",
    "\n",
    "Fids_1n5 , Fids_2n5 , Fids_1n55 , Fids_2n55, Fids_1n6 , Fids_2n6, Fids_1n65 , Fids_2n65, Fids_1n7 , Fids_2n7 = SamplerAnalitico( dim )\n",
    "\n",
    "#guardar datos, columnas corresponden a distintas dimensiones, filas son estados distintos\n",
    "np.savetxt('Sim2_4/dim=16,ens=10^5,fids_1.txt', Fids_1n5 )\n",
    "np.savetxt('Sim2_4/dim=16,ens=10^5,fids_2.txt', Fids_2n5 )\n",
    "np.savetxt('Sim2_4/dim=16,ens=10^55,fids_1.txt', Fids_1n55 )\n",
    "np.savetxt('Sim2_4/dim=16,ens=10^55,fids_2.txt', Fids_2n55 )\n",
    "np.savetxt('Sim2_4/dim=16,ens=10^6,fids_1.txt', Fids_1n6 )\n",
    "np.savetxt('Sim2_4/dim=16,ens=10^6,fids_2.txt', Fids_2n6 )\n",
    "np.savetxt('Sim2_4/dim=16,ens=10^65,fids_1.txt', Fids_1n65 )\n",
    "np.savetxt('Sim2_4/dim=16,ens=10^65,fids_2.txt', Fids_2n65 )\n",
    "np.savetxt('Sim2_4/dim=16,ens=10^7,fids_1.txt', Fids_1n7 )\n",
    "np.savetxt('Sim2_4/dim=16,ens=10^7,fids_2.txt', Fids_2n7 )"
   ]
  },
  {
   "cell_type": "code",
   "execution_count": null,
   "metadata": {},
   "outputs": [],
   "source": [
    "#variables\n",
    "\n",
    "dim = 2**5\n",
    "\n",
    "Fids_1n5 , Fids_2n5 , Fids_1n55 , Fids_2n55, Fids_1n6 , Fids_2n6, Fids_1n65 , Fids_2n65, Fids_1n7 , Fids_2n7 = SamplerAnalitico( dim )\n",
    "\n",
    "#guardar datos, columnas corresponden a distintas dimensiones, filas son estados distintos\n",
    "np.savetxt('Sim2_4/dim=32,ens=10^5,fids_1.txt', Fids_1n5 )\n",
    "np.savetxt('Sim2_4/dim=32,ens=10^5,fids_2.txt', Fids_2n5 )\n",
    "np.savetxt('Sim2_4/dim=32,ens=10^55,fids_1.txt', Fids_1n55 )\n",
    "np.savetxt('Sim2_4/dim=32,ens=10^55,fids_2.txt', Fids_2n55 )\n",
    "np.savetxt('Sim2_4/dim=32,ens=10^6,fids_1.txt', Fids_1n6 )\n",
    "np.savetxt('Sim2_4/dim=32,ens=10^6,fids_2.txt', Fids_2n6 )\n",
    "np.savetxt('Sim2_4/dim=32,ens=10^65,fids_1.txt', Fids_1n65 )\n",
    "np.savetxt('Sim2_4/dim=32,ens=10^65,fids_2.txt', Fids_2n65 )\n",
    "np.savetxt('Sim2_4/dim=32,ens=10^7,fids_1.txt', Fids_1n7 )\n",
    "np.savetxt('Sim2_4/dim=32,ens=10^7,fids_2.txt', Fids_2n7 )"
   ]
  },
  {
   "cell_type": "code",
   "execution_count": null,
   "metadata": {},
   "outputs": [],
   "source": [
    "#variables\n",
    "\n",
    "dim = 2**6\n",
    "\n",
    "Fids_1n5 , Fids_2n5 , Fids_1n55 , Fids_2n55, Fids_1n6 , Fids_2n6, Fids_1n65 , Fids_2n65, Fids_1n7 , Fids_2n7 = SamplerAnalitico( dim )\n",
    "\n",
    "#guardar datos, columnas corresponden a distintas dimensiones, filas son estados distintos\n",
    "np.savetxt('Sim2_4/dim=64,ens=10^5,fids_1.txt', Fids_1n5 )\n",
    "np.savetxt('Sim2_4/dim=64,ens=10^5,fids_2.txt', Fids_2n5 )\n",
    "np.savetxt('Sim2_4/dim=64,ens=10^55,fids_1.txt', Fids_1n55 )\n",
    "np.savetxt('Sim2_4/dim=64,ens=10^55,fids_2.txt', Fids_2n55 )\n",
    "np.savetxt('Sim2_4/dim=64,ens=10^6,fids_1.txt', Fids_1n6 )\n",
    "np.savetxt('Sim2_4/dim=64,ens=10^6,fids_2.txt', Fids_2n6 )\n",
    "np.savetxt('Sim2_4/dim=64,ens=10^65,fids_1.txt', Fids_1n65 )\n",
    "np.savetxt('Sim2_4/dim=64,ens=10^65,fids_2.txt', Fids_2n65 )\n",
    "np.savetxt('Sim2_4/dim=64,ens=10^7,fids_1.txt', Fids_1n7 )\n",
    "np.savetxt('Sim2_4/dim=64,ens=10^7,fids_2.txt', Fids_2n7 )"
   ]
  }
 ],
 "metadata": {
  "kernelspec": {
   "display_name": "base",
   "language": "python",
   "name": "python3"
  },
  "language_info": {
   "codemirror_mode": {
    "name": "ipython",
    "version": 3
   },
   "file_extension": ".py",
   "mimetype": "text/x-python",
   "name": "python",
   "nbconvert_exporter": "python",
   "pygments_lexer": "ipython3",
   "version": "3.11.0"
  }
 },
 "nbformat": 4,
 "nbformat_minor": 2
}
